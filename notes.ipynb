{
 "cells": [
  {
   "cell_type": "markdown",
   "id": "f4697e30-70b9-4b08-8247-f9a8d4662c50",
   "metadata": {},
   "source": [
    "## sns.swarmplot is a Seaborn plot used to visualize individual data points for a categorical variable.\n",
    "\n",
    "It “swarm[s]” the points so that they don’t overlap, giving a clear view of each observation’s value.\n",
    "\n",
    "Usage\n",
    "\n",
    "Usually used on top of a boxplot or violin plot to show both:\n",
    "\n",
    "Summary statistics (box/violin)\n",
    "\n",
    "Actual data points (swarmplot)\n",
    "\n",
    "Syntax:\n",
    "\n",
    "sns.swarmplot(data=df, color='color_name')\n",
    "\n",
    "\n",
    "data=df: The DataFrame or array of values.\n",
    "\n",
    "color='.25': Color of the points; .25 means a gray shade. You can also use \"red\" or any color.\n",
    "\n",
    "\n",
    "How it works\n",
    "\n",
    "It plots each point along the y-axis (for numerical values) and jitter along x-axis so points don’t sit exactly on top of each other.\n",
    "\n",
    "Prevents overlapping points, unlike a simple scatter.\n",
    "\n",
    "Works well with categorical comparisons, e.g., math vs science vs English.\n",
    "\n",
    "✅ Result:\n",
    "\n",
    "Boxes show median, quartiles, and outliers.\n",
    "\n",
    "Swarm points show each student’s actual score, giving a detailed distribution."
   ]
  },
  {
   "cell_type": "code",
   "execution_count": null,
   "id": "9ffc8349-8eb5-49a5-ad27-ca6250760d9b",
   "metadata": {},
   "outputs": [],
   "source": []
  }
 ],
 "metadata": {
  "kernelspec": {
   "display_name": "Python 3 (ipykernel)",
   "language": "python",
   "name": "python3"
  },
  "language_info": {
   "codemirror_mode": {
    "name": "ipython",
    "version": 3
   },
   "file_extension": ".py",
   "mimetype": "text/x-python",
   "name": "python",
   "nbconvert_exporter": "python",
   "pygments_lexer": "ipython3",
   "version": "3.13.5"
  }
 },
 "nbformat": 4,
 "nbformat_minor": 5
}
